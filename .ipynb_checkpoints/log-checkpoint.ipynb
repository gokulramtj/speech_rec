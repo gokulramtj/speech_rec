{
 "cells": [
  {
   "cell_type": "code",
   "execution_count": null,
   "metadata": {},
   "outputs": [
    {
     "name": "stdout",
     "output_type": "stream",
     "text": [
      "dfkjhfdkueh\n",
      "dfjkdfukdf\n",
      "dfjkgbdfkjhbdf\n",
      "dfjygfdukgdfb\n",
      "dfjyygdfugt\n",
      "rejugreyregukrebhjfgrfebfeougbfkurgf\n",
      "regerfb\n",
      "eryerf\n",
      "ervuerbfilnber\n",
      "reurelkbre\n",
      "reukrejkbre\n",
      "reuvrifrbre\n",
      "rebukkregbuubre\n",
      "reyveyhjrefujerbjkwebcugbeukbe\n",
      "rehvewyhjrsukbdwef\n",
      "resfyhjewvcwebjkuesgbcukbwaewkjfgbikrefl.w4e\n",
      "esrwykgcwefcjhseedfgckuwefbcy7usdgbfcukijwesg\n",
      "esdhjgvcwesyjbsfcw4e\n"
     ]
    }
   ],
   "source": [
    "import time\n",
    "from datetime import datetime\n",
    "\n",
    "f = open(\"project_log.txt\", \"a+\")\n",
    "flag = True\n",
    "while(flag):\n",
    "    ip = input()\n",
    "    if(ip==\"\"):\n",
    "        flag = False\n",
    "    else:\n",
    "        tstamp = str(datetime.fromtimestamp(time.time()))\n",
    "        f.write(tstamp + \"\\t\" + ip + \"\\n\")  \n",
    "\n",
    "f.close()\n"
   ]
  },
  {
   "cell_type": "code",
   "execution_count": 7,
   "metadata": {},
   "outputs": [
    {
     "name": "stdout",
     "output_type": "stream",
     "text": [
      "dfklnfdldgfb\n",
      ":\n"
     ]
    }
   ],
   "source": [
    "i=input()\n",
    "if(i!=\"\"):\n",
    "    print(\":\")"
   ]
  }
 ],
 "metadata": {
  "kernelspec": {
   "display_name": "Python 3",
   "language": "python",
   "name": "python3"
  },
  "language_info": {
   "codemirror_mode": {
    "name": "ipython",
    "version": 3
   },
   "file_extension": ".py",
   "mimetype": "text/x-python",
   "name": "python",
   "nbconvert_exporter": "python",
   "pygments_lexer": "ipython3",
   "version": "3.7.3"
  }
 },
 "nbformat": 4,
 "nbformat_minor": 2
}
