{
 "cells": [
  {
   "cell_type": "code",
   "execution_count": 14,
   "metadata": {},
   "outputs": [
    {
     "name": "stdout",
     "output_type": "stream",
     "text": [
      "Say Something\n",
      "you said: hello hello hello hello hello hello hello hello hello hello\n",
      "\n",
      "Creating file : 2019-11-09_19-32-28.294611.txt\n",
      "Writing to file...\n",
      "Write completed.\n",
      "Refer file : speech_to_text\\2019-11-09_19-32-28.294611.txt\n"
     ]
    }
   ],
   "source": [
    "import speech_recognition as sr \n",
    "import time\n",
    "from datetime import datetime\n",
    "\n",
    "mic_name = \"Microphone Array (Realtek High \"\n",
    "sample_rate = 48000\n",
    "chunk_size = 2048\n",
    "r = sr.Recognizer() \n",
    "mic_list = sr.Microphone.list_microphone_names() \n",
    "for i, microphone_name in enumerate(mic_list): \n",
    "    if microphone_name == mic_name: \n",
    "        device_id = i \n",
    "        with sr.Microphone(device_index = device_id, sample_rate = sample_rate,  \n",
    "                                chunk_size = chunk_size) as source: \n",
    "            r.adjust_for_ambient_noise(source) \n",
    "            print(\"Say Something\")\n",
    "            audio = r.listen(source) \n",
    "\n",
    "        try: \n",
    "            text = r.recognize_google(audio) \n",
    "            print(\"you said: \" + text)\n",
    "            dname = str(datetime.fromtimestamp(time.time()))\n",
    "            dname = dname.replace(\" \", \"_\")\n",
    "            dname = dname.replace(\":\", \"-\")\n",
    "            name = \"speech_to_text\\\\\" + dname +\".txt\"\n",
    "            print(\"\\nCreating file : \" + dname + \".txt\")\n",
    "            f = open(name ,\"w+\")\n",
    "            print(\"Writing to file...\")\n",
    "            f.write(text)\n",
    "            f.close()\n",
    "            print(\"Write completed.\\nRefer file : \" + name)\n",
    "        except sr.UnknownValueError: \n",
    "            print(\"Could not understand audio\") \n",
    "\n",
    "        except sr.RequestError as e: \n",
    "            print(\"Could not connect to internet {0}\".format(e)) "
   ]
  },
  {
   "cell_type": "code",
   "execution_count": 4,
   "metadata": {},
   "outputs": [
    {
     "name": "stdout",
     "output_type": "stream",
     "text": [
      "Say Something\n",
      "the world you know when you could do\n"
     ]
    }
   ],
   "source": [
    "import speech_recognition as sr \n",
    "\n",
    "\n",
    "mic_name = \"Microphone Array (Realtek High \"\n",
    "sample_rate = 48000\n",
    "chunk_size = 2048\n",
    "r = sr.Recognizer() \n",
    "mic_list = sr.Microphone.list_microphone_names() \n",
    "for i, microphone_name in enumerate(mic_list): \n",
    "    if microphone_name == mic_name: \n",
    "        device_id = i \n",
    "        with sr.Microphone(device_index = device_id, sample_rate = sample_rate,  \n",
    "                                chunk_size = chunk_size) as source: \n",
    "            r.adjust_for_ambient_noise(source) \n",
    "            print(\"Say Something\")\n",
    "            audio = r.listen(source) \n",
    "            print(r.recognize_sphinx(audio))\n"
   ]
  },
  {
   "cell_type": "code",
   "execution_count": 2,
   "metadata": {},
   "outputs": [
    {
     "name": "stdout",
     "output_type": "stream",
     "text": [
      "<class 'pocketsphinx.AudioFile'>\n",
      "go forward ten meters\n"
     ]
    }
   ],
   "source": [
    "from pocketsphinx import AudioFile\n",
    "print(AudioFile)\n",
    "for phrase in AudioFile(): print(phrase) "
   ]
  },
  {
   "cell_type": "code",
   "execution_count": null,
   "metadata": {},
   "outputs": [],
   "source": [
    "from pocketsphinx import LiveSpeech\n",
    "hmm = 'cmusphinx-en-in-8khz-5.2//en_in.cd_cont_5000'\n",
    "lm = 'cmusphinx-en-in-8khz-5.2//en-70k-0.1.lm'\n",
    "dic = 'cmusphinx-en-in-8khz-5.2//en_in.dic'\n",
    "\n",
    "rec = LiveSpeech(verbose = False,\n",
    "                 sampling_rate = 16000, \n",
    "                 buffer_size = 2048,\n",
    "                 no_search = False,\n",
    "                 full_utt = False,\n",
    "                 hmm = hmm,\n",
    "                 lm = lm,\n",
    "                 dic = dic)\n",
    "for phrase in rec: print(phrase)"
   ]
  },
  {
   "cell_type": "code",
   "execution_count": 1,
   "metadata": {},
   "outputs": [
    {
     "name": "stdout",
     "output_type": "stream",
     "text": [
      "0 Microsoft Sound Mapper - Input\n",
      "1 Microphone Array (Realtek High \n",
      "2 Headset (MiSuperBassWirelessHea\n",
      "3 Microsoft Sound Mapper - Output\n",
      "4 Headphones (MiSuperBassWireless\n",
      "5 Speakers (Realtek High Definiti\n",
      "6 Headset (MiSuperBassWirelessHea\n",
      "7 Headphones ()\n",
      "8 Headphones ()\n",
      "9 Speakers 1 (Realtek HD Audio output with SST)\n",
      "10 Speakers 2 (Realtek HD Audio output with SST)\n",
      "11 PC Speaker (Realtek HD Audio output with SST)\n",
      "12 Microphone Array (Realtek HD Audio Mic input)\n",
      "13 Stereo Mix (Realtek HD Audio Stereo input)\n",
      "14 Output (@System32\\drivers\\bthhfenum.sys,#4;%1 Hands-Free HF Audio%0\r\n",
      ";(Galaxy M10s))\n",
      "15 Input (@System32\\drivers\\bthhfenum.sys,#4;%1 Hands-Free HF Audio%0\r\n",
      ";(Galaxy M10s))\n",
      "16 Headset (@System32\\drivers\\bthhfenum.sys,#2;%1 Hands-Free AG Audio%0\r\n",
      ";(MiSuperBassWirelessHeadphones))\n",
      "17 Headset (@System32\\drivers\\bthhfenum.sys,#2;%1 Hands-Free AG Audio%0\r\n",
      ";(MiSuperBassWirelessHeadphones))\n",
      "18 Headset (@System32\\drivers\\bthhfenum.sys,#2;%1 Hands-Free AG Audio%0\r\n",
      ";(RD-B28S))\n",
      "19 Headset (@System32\\drivers\\bthhfenum.sys,#2;%1 Hands-Free AG Audio%0\r\n",
      ";(RD-B28S))\n",
      "20 Output (@System32\\drivers\\bthhfenum.sys,#4;%1 Hands-Free HF Audio%0\r\n",
      ";(ASUS_X00TD))\n",
      "21 Input (@System32\\drivers\\bthhfenum.sys,#4;%1 Hands-Free HF Audio%0\r\n",
      ";(ASUS_X00TD))\n"
     ]
    }
   ],
   "source": [
    "import speech_recognition as sr\n",
    "\n",
    "mic_list = sr.Microphone.list_microphone_names() \n",
    "for i, microphone_name in enumerate(mic_list): \n",
    "    print(i, microphone_name)"
   ]
  }
 ],
 "metadata": {
  "kernelspec": {
   "display_name": "Python 3",
   "language": "python",
   "name": "python3"
  },
  "language_info": {
   "codemirror_mode": {
    "name": "ipython",
    "version": 3
   },
   "file_extension": ".py",
   "mimetype": "text/x-python",
   "name": "python",
   "nbconvert_exporter": "python",
   "pygments_lexer": "ipython3",
   "version": "3.7.3"
  }
 },
 "nbformat": 4,
 "nbformat_minor": 2
}
