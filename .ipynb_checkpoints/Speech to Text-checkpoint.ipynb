{
 "cells": [
  {
   "cell_type": "code",
   "execution_count": 3,
   "metadata": {},
   "outputs": [
    {
     "name": "stdout",
     "output_type": "stream",
     "text": [
      "\n",
      "Creating file : 2019-11-20_20-58-24.391771.txt\n",
      "Say Something\n",
      "Recognizing\n",
      "you said: hello hello hello\n",
      "Writing to file...\n",
      "Say Something\n",
      "Recognizing\n",
      "you said: mike testing 321\n",
      "Writing to file...\n",
      "Say Something\n",
      "Recognizing\n",
      "you said: a b c d e f g h i j k l m n o p q r s t u v w x y z\n",
      "Writing to file...\n",
      "Say Something\n",
      "Recognizing\n",
      "you said: hello\n",
      "Writing to file...\n",
      "Say Something\n",
      "Recognizing\n",
      "Could not understand audio\n",
      "Write completed.\n",
      "Refer file : speech_to_text\\2019-11-20_20-58-24.391771.txt\n",
      "\n",
      "Creating file : 2019-11-20_20-59-11.234108.txt\n",
      "Write completed.\n",
      "Refer file : speech_to_text\\2019-11-20_20-59-11.234108.txt\n"
     ]
    }
   ],
   "source": [
    "import speech_recognition as sr \n",
    "import time\n",
    "from datetime import datetime\n",
    "import multiprocessing\n",
    "\n",
    "\n",
    "def recognize(audio):\n",
    "    try: \n",
    "        text = r.recognize_google(audio) \n",
    "        print(\"you said: \" + text)\n",
    "        print(\"Writing to file...\")\n",
    "        f.write(text)\n",
    "        flag = True\n",
    "\n",
    "\n",
    "    except sr.UnknownValueError: \n",
    "        print(\"Could not understand audio\") \n",
    "        flag = True\n",
    "\n",
    "    except sr.RequestError as e: \n",
    "        print(\"Could not connect to internet {0}\".format(e)) \n",
    "        flag = False\n",
    "    return flag\n",
    "\n",
    "mic_name = \"Headset (MiSuperBassWirelessHea\"\n",
    "sample_rate = 48000\n",
    "chunk_size = 2048\n",
    "flag = True\n",
    "r = sr.Recognizer() \n",
    "mic_list = sr.Microphone.list_microphone_names() \n",
    "for i, microphone_name in enumerate(mic_list): \n",
    "    if microphone_name == mic_name: \n",
    "        \n",
    "        device_id = i \n",
    "        dname = str(datetime.fromtimestamp(time.time()))\n",
    "        dname = dname.replace(\" \", \"_\")\n",
    "        dname = dname.replace(\":\", \"-\")\n",
    "        name = \"speech_to_text\\\\\" + dname +\".txt\"\n",
    "        print(\"\\nCreating file : \" + dname + \".txt\")\n",
    "        f = open(name ,\"a+\")\n",
    "            \n",
    "\n",
    "        while flag:\n",
    "            \n",
    "            with sr.Microphone(device_index = device_id, sample_rate = sample_rate,  \n",
    "                                chunk_size = chunk_size) as source: \n",
    "            \n",
    "                r.adjust_for_ambient_noise(source) \n",
    "                print(\"Say Something\")\n",
    "                audio = r.listen(source) \n",
    "                print(\"Recognizing\")\n",
    "                try: \n",
    "                    text = r.recognize_google(audio) \n",
    "                    print(\"you said: \" + text)\n",
    "\n",
    "                    print(\"Writing to file...\")\n",
    "                    f.write(text)\n",
    "\n",
    "\n",
    "                except sr.UnknownValueError: \n",
    "                    print(\"Could not understand audio\") \n",
    "                    flag = False\n",
    "\n",
    "                except sr.RequestError as e: \n",
    "                    print(\"Could not connect to internet {0}\".format(e)) \n",
    "                    flag = False\n",
    "        f.close()\n",
    "        print(\"Write completed.\\nRefer file : \" + name)"
   ]
  },
  {
   "cell_type": "code",
   "execution_count": null,
   "metadata": {},
   "outputs": [],
   "source": [
    "import speech_recognition as sr \n",
    "import time\n",
    "from datetime import datetime\n",
    "import multiprocessing\n",
    "\n",
    "\n",
    "\n",
    "\n",
    "mic_name = \"Headset (MiSuperBassWirelessHea\"\n",
    "sample_rate = 48000\n",
    "chunk_size = 2048\n",
    "flag = True\n",
    "r = sr.Recognizer() \n",
    "mic_list = sr.Microphone.list_microphone_names() \n",
    "for i, microphone_name in enumerate(mic_list): \n",
    "    if microphone_name == mic_name: \n",
    "        \n",
    "        device_id = i \n",
    "        dname = str(datetime.fromtimestamp(time.time()))\n",
    "        dname = dname.replace(\" \", \"_\")\n",
    "        dname = dname.replace(\":\", \"-\")\n",
    "        name = \"speech_to_text\\\\\" + dname +\".txt\"\n",
    "        print(\"\\nCreating file : \" + dname + \".txt\")\n",
    "        f = open(name ,\"a+\")\n",
    "            \n",
    "\n",
    "        while flag:\n",
    "            \n",
    "            with sr.Microphone(device_index = device_id, sample_rate = sample_rate,  \n",
    "                                chunk_size = chunk_size) as source: \n",
    "            \n",
    "                r.adjust_for_ambient_noise(source) \n",
    "                print(\"Say Something\")\n",
    "                audio = r.listen(source) \n",
    "                print(\"Recognizing\")\n",
    "                try: \n",
    "                    text = r.recognize_google(audio) \n",
    "                    print(\"you said: \" + text)\n",
    "\n",
    "                    print(\"Writing to file...\")\n",
    "                    f.write(text)\n",
    "\n",
    "\n",
    "                except sr.UnknownValueError: \n",
    "                    print(\"Could not understand audio\") \n",
    "                    flag = False\n",
    "\n",
    "                except sr.RequestError as e: \n",
    "                    print(\"Could not connect to internet {0}\".format(e)) \n",
    "                    flag = False\n",
    "        f.close()\n",
    "        print(\"Write completed.\\nRefer file : \" + name)"
   ]
  },
  {
   "cell_type": "code",
   "execution_count": 4,
   "metadata": {},
   "outputs": [
    {
     "name": "stdout",
     "output_type": "stream",
     "text": [
      "Say Something\n",
      "the world you know when you could do\n"
     ]
    }
   ],
   "source": [
    "import speech_recognition as sr \n",
    "\n",
    "\n",
    "mic_name = \"Microphone Array (Realtek High \"\n",
    "sample_rate = 48000\n",
    "chunk_size = 2048\n",
    "r = sr.Recognizer() \n",
    "mic_list = sr.Microphone.list_microphone_names() \n",
    "for i, microphone_name in enumerate(mic_list): \n",
    "    if microphone_name == mic_name: \n",
    "        device_id = i \n",
    "        with sr.Microphone(device_index = device_id, sample_rate = sample_rate,  \n",
    "                                chunk_size = chunk_size) as source: \n",
    "            r.adjust_for_ambient_noise(source) \n",
    "            print(\"Say Something\")\n",
    "            audio = r.listen(source) \n",
    "            print(r.recognize_sphinx(audio))\n"
   ]
  },
  {
   "cell_type": "code",
   "execution_count": 2,
   "metadata": {},
   "outputs": [
    {
     "name": "stdout",
     "output_type": "stream",
     "text": [
      "<class 'pocketsphinx.AudioFile'>\n",
      "go forward ten meters\n"
     ]
    }
   ],
   "source": [
    "from pocketsphinx import AudioFile\n",
    "print(AudioFile)\n",
    "for phrase in AudioFile(): print(phrase) "
   ]
  },
  {
   "cell_type": "code",
   "execution_count": null,
   "metadata": {},
   "outputs": [],
   "source": [
    "from pocketsphinx import LiveSpeech\n",
    "hmm = 'cmusphinx-en-in-8khz-5.2//en_in.cd_cont_5000'\n",
    "lm = 'cmusphinx-en-in-8khz-5.2//en-70k-0.1.lm'\n",
    "dic = 'cmusphinx-en-in-8khz-5.2//en_in.dic'\n",
    "\n",
    "rec = LiveSpeech(verbose = False,\n",
    "                 sampling_rate = 16000, \n",
    "                 buffer_size = 2048,\n",
    "                 no_search = False,\n",
    "                 full_utt = False,\n",
    "                 hmm = hmm,\n",
    "                 lm = lm,\n",
    "                 dic = dic)\n",
    "for phrase in rec: print(phrase)"
   ]
  },
  {
   "cell_type": "code",
   "execution_count": 1,
   "metadata": {},
   "outputs": [
    {
     "name": "stdout",
     "output_type": "stream",
     "text": [
      "0 Microsoft Sound Mapper - Input\n",
      "1 Headset (MiSuperBassWirelessHea\n",
      "2 Microsoft Sound Mapper - Output\n",
      "3 Speakers (Realtek High Definiti\n",
      "4 Headphones (MiSuperBassWireless\n",
      "5 Headset (MiSuperBassWirelessHea\n",
      "6 Headphones ()\n",
      "7 Headphones ()\n",
      "8 Speakers 1 (Realtek HD Audio output with SST)\n",
      "9 Speakers 2 (Realtek HD Audio output with SST)\n",
      "10 PC Speaker (Realtek HD Audio output with SST)\n",
      "11 Microphone Array (Realtek HD Audio Mic input)\n",
      "12 Stereo Mix (Realtek HD Audio Stereo input)\n",
      "13 Output (@System32\\drivers\\bthhfenum.sys,#4;%1 Hands-Free HF Audio%0\r\n",
      ";(ASUS_X00TD))\n",
      "14 Input (@System32\\drivers\\bthhfenum.sys,#4;%1 Hands-Free HF Audio%0\r\n",
      ";(ASUS_X00TD))\n",
      "15 Output (@System32\\drivers\\bthhfenum.sys,#4;%1 Hands-Free HF Audio%0\r\n",
      ";(Galaxy M10s))\n",
      "16 Input (@System32\\drivers\\bthhfenum.sys,#4;%1 Hands-Free HF Audio%0\r\n",
      ";(Galaxy M10s))\n",
      "17 Headset (@System32\\drivers\\bthhfenum.sys,#2;%1 Hands-Free AG Audio%0\r\n",
      ";(MiSuperBassWirelessHeadphones))\n",
      "18 Headset (@System32\\drivers\\bthhfenum.sys,#2;%1 Hands-Free AG Audio%0\r\n",
      ";(MiSuperBassWirelessHeadphones))\n",
      "19 Headset (@System32\\drivers\\bthhfenum.sys,#2;%1 Hands-Free AG Audio%0\r\n",
      ";(RD-B28S))\n",
      "20 Headset (@System32\\drivers\\bthhfenum.sys,#2;%1 Hands-Free AG Audio%0\r\n",
      ";(RD-B28S))\n",
      "21 Output (@System32\\drivers\\bthhfenum.sys,#4;%1 Hands-Free HF Audio%0\r\n",
      ";(ASUS_X00TD))\n",
      "22 Input (@System32\\drivers\\bthhfenum.sys,#4;%1 Hands-Free HF Audio%0\r\n",
      ";(ASUS_X00TD))\n"
     ]
    }
   ],
   "source": [
    "import speech_recognition as sr\n",
    "\n",
    "mic_list = sr.Microphone.list_microphone_names() \n",
    "for i, microphone_name in enumerate(mic_list): \n",
    "    print(i, microphone_name)"
   ]
  },
  {
   "cell_type": "code",
   "execution_count": 46,
   "metadata": {},
   "outputs": [
    {
     "name": "stdout",
     "output_type": "stream",
     "text": [
      "List processing complete.\n",
      "[]\n"
     ]
    }
   ],
   "source": []
  }
 ],
 "metadata": {
  "kernelspec": {
   "display_name": "Python 3",
   "language": "python",
   "name": "python3"
  },
  "language_info": {
   "codemirror_mode": {
    "name": "ipython",
    "version": 3
   },
   "file_extension": ".py",
   "mimetype": "text/x-python",
   "name": "python",
   "nbconvert_exporter": "python",
   "pygments_lexer": "ipython3",
   "version": "3.7.3"
  }
 },
 "nbformat": 4,
 "nbformat_minor": 2
}
