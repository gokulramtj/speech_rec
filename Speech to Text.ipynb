{
 "cells": [
  {
   "cell_type": "code",
   "execution_count": 14,
   "metadata": {},
   "outputs": [
    {
     "name": "stdout",
     "output_type": "stream",
     "text": [
      "Say Something\n",
      "you said: hello hello hello hello hello hello hello hello hello hello\n",
      "\n",
      "Creating file : 2019-11-09_19-32-28.294611.txt\n",
      "Writing to file...\n",
      "Write completed.\n",
      "Refer file : speech_to_text\\2019-11-09_19-32-28.294611.txt\n"
     ]
    }
   ],
   "source": [
    "import speech_recognition as sr \n",
    "import time\n",
    "from datetime import datetime\n",
    "\n",
    "mic_name = \"Microphone Array (Realtek High \"\n",
    "sample_rate = 48000\n",
    "chunk_size = 2048\n",
    "r = sr.Recognizer() \n",
    "mic_list = sr.Microphone.list_microphone_names() \n",
    "for i, microphone_name in enumerate(mic_list): \n",
    "    if microphone_name == mic_name: \n",
    "        device_id = i \n",
    "        with sr.Microphone(device_index = device_id, sample_rate = sample_rate,  \n",
    "                                chunk_size = chunk_size) as source: \n",
    "            r.adjust_for_ambient_noise(source) \n",
    "            print(\"Say Something\")\n",
    "            audio = r.listen(source) \n",
    "\n",
    "        try: \n",
    "            text = r.recognize_google(audio) \n",
    "            print(\"you said: \" + text)\n",
    "            dname = str(datetime.fromtimestamp(time.time()))\n",
    "            dname = dname.replace(\" \", \"_\")\n",
    "            dname = dname.replace(\":\", \"-\")\n",
    "            name = \"speech_to_text\\\\\" + dname +\".txt\"\n",
    "            print(\"\\nCreating file : \" + dname + \".txt\")\n",
    "            f = open(name ,\"w+\")\n",
    "            print(\"Writing to file...\")\n",
    "            f.write(text)\n",
    "            f.close()\n",
    "            print(\"Write completed.\\nRefer file : \" + name)\n",
    "        except sr.UnknownValueError: \n",
    "            print(\"Could not understand audio\") \n",
    "\n",
    "        except sr.RequestError as e: \n",
    "            print(\"Could not connect to internet {0}\".format(e)) "
   ]
  }
 ],
 "metadata": {
  "kernelspec": {
   "display_name": "Python 3",
   "language": "python",
   "name": "python3"
  },
  "language_info": {
   "codemirror_mode": {
    "name": "ipython",
    "version": 3
   },
   "file_extension": ".py",
   "mimetype": "text/x-python",
   "name": "python",
   "nbconvert_exporter": "python",
   "pygments_lexer": "ipython3",
   "version": "3.7.3"
  }
 },
 "nbformat": 4,
 "nbformat_minor": 2
}
